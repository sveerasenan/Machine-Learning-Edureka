{
 "cells": [
  {
   "cell_type": "code",
   "execution_count": 1,
   "id": "80740b1c-8a0c-41a6-922f-6a02bc790cee",
   "metadata": {},
   "outputs": [
    {
     "name": "stdout",
     "output_type": "stream",
     "text": [
      "4\n"
     ]
    }
   ],
   "source": [
    "#1. Find output\n",
    "# It should be 4, since the duplicates will be removed in set\n",
    "nums = set([1,1,2,3,3,3,4,4])\n",
    "print (len(nums))"
   ]
  },
  {
   "cell_type": "code",
   "execution_count": 3,
   "id": "de87fdaa-f003-40e1-b8b1-8160768f4062",
   "metadata": {},
   "outputs": [
    {
     "name": "stdout",
     "output_type": "stream",
     "text": [
      "['john', 'peter']\n"
     ]
    }
   ],
   "source": [
    "#2. Find output\n",
    "# It should be [\"john\",\"peter\"]\n",
    "d={\"john\":40,\"peter\":45}\n",
    "print(list(d.keys()))"
   ]
  },
  {
   "cell_type": "code",
   "execution_count": 13,
   "id": "d762c436-7e43-4ac7-8211-c668a30c36e8",
   "metadata": {},
   "outputs": [
    {
     "name": "stdin",
     "output_type": "stream",
     "text": [
      "Enter password aryaSDDdfdf\n"
     ]
    },
    {
     "name": "stdout",
     "output_type": "stream",
     "text": [
      "Invalid password\n"
     ]
    }
   ],
   "source": [
    "#3. password validation\n",
    "password = input(\"Enter password\")\n",
    "\n",
    "specialchar = False\n",
    "numericchar = False\n",
    "unumericchar = False\n",
    "lnumericchar = False\n",
    "if len(password) < 6 or len(password) > 12:\n",
    "    print(\"Invalid password Length\")\n",
    "\n",
    "for charc in password:\n",
    "    if charc in ['$','#','@'] and specialchar == False:\n",
    "        specialchar = True\n",
    "\n",
    "    if charc.isnumeric() and numericchar == False:\n",
    "        numericchar = True\n",
    "\n",
    "    if charc.isalpha() and (unumericchar == False or lnumericchar == False):\n",
    "        if charc == charc.upper() and unumericchar == False:\n",
    "            unumericchar = True\n",
    "        elif lnumericchar == False:\n",
    "            lnumericchar = True\n",
    "if specialchar == False or numericchar == False or unumericchar == False or lnumericchar == False:\n",
    "    print (\"Invalid password\")\n",
    "else:\n",
    "    print(\"It is a valid password\")\n",
    "    "
   ]
  },
  {
   "cell_type": "code",
   "execution_count": 15,
   "id": "80c70962-2b8a-4de8-8668-53c7bca874eb",
   "metadata": {},
   "outputs": [
    {
     "name": "stdout",
     "output_type": "stream",
     "text": [
      "position is 0 value is 4\n",
      "position is 1 value is 7\n",
      "position is 2 value is 3\n",
      "position is 3 value is 2\n",
      "position is 4 value is 5\n",
      "position is 5 value is 9\n"
     ]
    }
   ],
   "source": [
    "#4. Print element and position\n",
    "a=[4,7,3,2,5,9]\n",
    "for i in range(len(a)):\n",
    "    print(f\"position is {i} value is {a[i]}\")"
   ]
  },
  {
   "cell_type": "code",
   "execution_count": 19,
   "id": "5f6cef5b-9ab9-42c6-8e07-1d58faf9c08a",
   "metadata": {},
   "outputs": [
    {
     "name": "stdin",
     "output_type": "stream",
     "text": [
      "Enter a word H1e21314o5w6o7r8i9d\n"
     ]
    },
    {
     "name": "stdout",
     "output_type": "stream",
     "text": [
      "He11oworid\n"
     ]
    }
   ],
   "source": [
    "#5. print even index characters\n",
    "inpword = input(\"Enter a word\")\n",
    "output = \"\"\n",
    "for windex in range(len(inpword)):\n",
    "    if windex % 2 == 0:\n",
    "        output = f\"{output}{inpword[windex]}\"\n",
    "\n",
    "print (output)\n",
    "    "
   ]
  },
  {
   "cell_type": "code",
   "execution_count": 22,
   "id": "071f951e-ed9d-49d8-a09b-3753b0a9d5e7",
   "metadata": {},
   "outputs": [
    {
     "name": "stdin",
     "output_type": "stream",
     "text": [
      "Enter sequence of words rise to vote sir\n"
     ]
    },
    {
     "name": "stdout",
     "output_type": "stream",
     "text": [
      "ris etov ot esir\n"
     ]
    }
   ],
   "source": [
    "#6. print string in reverse order\n",
    "inpword = input(\"Enter sequence of words\")\n",
    "print (inpword[::-1])"
   ]
  },
  {
   "cell_type": "code",
   "execution_count": 24,
   "id": "929e5890-cb34-4648-acb2-7ba13fc89d17",
   "metadata": {},
   "outputs": [
    {
     "name": "stdin",
     "output_type": "stream",
     "text": [
      "Enter any word abcdefgabc\n"
     ]
    },
    {
     "name": "stdout",
     "output_type": "stream",
     "text": [
      "a,2\n",
      "b,2\n",
      "c,2\n",
      "d,1\n",
      "e,1\n",
      "f,1\n",
      "g,1\n"
     ]
    }
   ],
   "source": [
    "#7. count characters\n",
    "inpword = input(\"Enter any word\")\n",
    "completedlist = []\n",
    "for char in inpword:\n",
    "    if char not in completedlist:\n",
    "        print (f\"{char},{inpword.count(char)}\")\n",
    "        completedlist.append(char)"
   ]
  },
  {
   "cell_type": "code",
   "execution_count": 27,
   "id": "9de5cff1-b02e-4dc9-adc8-eeb21408fab3",
   "metadata": {},
   "outputs": [
    {
     "name": "stdout",
     "output_type": "stream",
     "text": [
      "{35, 78}\n"
     ]
    }
   ],
   "source": [
    "#8. Intersection of lists\n",
    "a = [1,3,6,78,35,35]\n",
    "b = [12,24,35,24,88,120,155,78]\n",
    "print (set(a).intersection(set(b)))"
   ]
  },
  {
   "cell_type": "code",
   "execution_count": 29,
   "id": "59161389-8d68-4fe6-bb16-1ee035aa6842",
   "metadata": {},
   "outputs": [
    {
     "name": "stdout",
     "output_type": "stream",
     "text": [
      "[12, 35, 88, 120, 155, 78]\n"
     ]
    }
   ],
   "source": [
    "#9. Remove value from list\n",
    "a = [12,24,35,24,88,120,155,78]\n",
    "for ele in a:\n",
    "    if ele == 24:\n",
    "        a.remove(24)\n",
    "print (a)"
   ]
  },
  {
   "cell_type": "code",
   "execution_count": 31,
   "id": "e847287a-42d1-49bb-94fd-30315bddebe2",
   "metadata": {},
   "outputs": [
    {
     "name": "stdout",
     "output_type": "stream",
     "text": [
      "[24, 35, 24, 155, 78]\n"
     ]
    }
   ],
   "source": [
    "#10. Remove by index\n",
    "a = [12,24,35,24,88,120,155,78]\n",
    "#we have to sort index by descending order to achieve right output\n",
    "indexlist = [5,4,0]\n",
    "for eleindex in indexlist:\n",
    "    a.pop(eleindex)\n",
    "print (a)"
   ]
  },
  {
   "cell_type": "code",
   "execution_count": 32,
   "id": "4290e270-eb76-4be1-be2a-7ab132aac96f",
   "metadata": {},
   "outputs": [
    {
     "name": "stdout",
     "output_type": "stream",
     "text": [
      "[12, 24, 24, 88, 155, 78]\n"
     ]
    }
   ],
   "source": [
    "#11. Delete elements divisible by 5 and 7\n",
    "a = [12,24,35,24,88,120,155,78]\n",
    "for ele in a:\n",
    "    if ele % 5 == 0 or ele % 7 == 0:\n",
    "        a.remove(ele)\n",
    "\n",
    "print (a)\n",
    "    "
   ]
  },
  {
   "cell_type": "code",
   "execution_count": 48,
   "id": "0f37430c-5882-4fec-a3f2-6a27a68b1b67",
   "metadata": {},
   "outputs": [
    {
     "name": "stdin",
     "output_type": "stream",
     "text": [
      "Enter number 5\n"
     ]
    },
    {
     "name": "stdout",
     "output_type": "stream",
     "text": [
      "3.55\n"
     ]
    }
   ],
   "source": [
    "#12. program to compute output\n",
    "inpnum = int(input(\"Enter number\"))\n",
    "result = 0\n",
    "for i in range(1,inpnum+1):\n",
    "    result = result + (round((i/(i+1)), 2))\n",
    "\n",
    "print (result)\n",
    "    "
   ]
  },
  {
   "cell_type": "code",
   "execution_count": null,
   "id": "2ff7a4cc-dc43-433e-a80c-cc5f9c12f263",
   "metadata": {},
   "outputs": [],
   "source": []
  }
 ],
 "metadata": {
  "kernelspec": {
   "display_name": "Python 3 (ipykernel)",
   "language": "python",
   "name": "python3"
  },
  "language_info": {
   "codemirror_mode": {
    "name": "ipython",
    "version": 3
   },
   "file_extension": ".py",
   "mimetype": "text/x-python",
   "name": "python",
   "nbconvert_exporter": "python",
   "pygments_lexer": "ipython3",
   "version": "3.11.7"
  }
 },
 "nbformat": 4,
 "nbformat_minor": 5
}
