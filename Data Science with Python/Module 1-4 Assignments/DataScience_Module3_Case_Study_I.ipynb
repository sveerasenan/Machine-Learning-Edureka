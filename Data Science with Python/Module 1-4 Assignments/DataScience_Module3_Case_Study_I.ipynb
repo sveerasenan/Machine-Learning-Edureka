{
 "cells": [
  {
   "cell_type": "code",
   "execution_count": 11,
   "id": "5ed705f1-c72f-4f38-bc93-068b2a2eafd7",
   "metadata": {},
   "outputs": [
    {
     "name": "stdout",
     "output_type": "stream",
     "text": [
      "Distance covered  2.23606797749979\n"
     ]
    }
   ],
   "source": [
    "#1. calculate robot position\n",
    "import math\n",
    "def up(inp):\n",
    "    global y \n",
    "    y += inp\n",
    "\n",
    "def down(inp):\n",
    "    global y \n",
    "    y -= inp\n",
    "\n",
    "def left(inp):\n",
    "    global x\n",
    "    x -= inp\n",
    "\n",
    "def right(inp):\n",
    "    global x\n",
    "    x += inp\n",
    "\n",
    "orgx = 0\n",
    "orgy = 0\n",
    "x = 0\n",
    "y = 0\n",
    "up(5)\n",
    "down(3)\n",
    "left(3)\n",
    "right(2)\n",
    "\n",
    "dist = math.sqrt(math.pow((x-orgx),2) + math.pow((y-orgy),2))\n",
    "\n",
    "print (\"Distance covered \",dist)"
   ]
  },
  {
   "cell_type": "code",
   "execution_count": 12,
   "id": "d5bf7de2-cb18-43a7-9ed4-0b2fc7b2bab1",
   "metadata": {},
   "outputs": [
    {
     "name": "stdout",
     "output_type": "stream",
     "text": [
      "Data2 found\n",
      "Data4 found\n"
     ]
    }
   ],
   "source": [
    "#2. Search data from list\n",
    "inplist = ['data1','data2','data3','data4','data5']\n",
    "for ele in inplist:\n",
    "    if ele == \"data4\":\n",
    "        print (\"Data4 found\")\n",
    "    elif ele == \"data2\":\n",
    "        print (\"Data2 found\")"
   ]
  },
  {
   "cell_type": "code",
   "execution_count": 18,
   "id": "e43d7bea-474f-46fd-805f-8c076cfeb944",
   "metadata": {},
   "outputs": [
    {
     "name": "stdout",
     "output_type": "stream",
     "text": [
      "It's dark\n"
     ]
    }
   ],
   "source": [
    "#3. Predict whether dark or not\n",
    "import datetime\n",
    "ctime = datetime.datetime.now().hour\n",
    "if ctime < 6 or ctime > 18:\n",
    "    print (\"It's dark\")\n",
    "else:\n",
    "    print (\"It's not dark\")\n"
   ]
  },
  {
   "cell_type": "code",
   "execution_count": 5,
   "id": "4afcc16e-71f2-4291-a47a-7dcabb50fac7",
   "metadata": {},
   "outputs": [
    {
     "name": "stdout",
     "output_type": "stream",
     "text": [
      "Distance :  1221.4185426563272\n"
     ]
    }
   ],
   "source": [
    "#4. calculate distance\n",
    "latitude1 = 48\n",
    "latitude2 = 50\n",
    "longitude1 = 2.5\n",
    "longitude2 = 19\n",
    "\n",
    "import math\n",
    "\n",
    "# Convert degrees to radians\n",
    "latitude1 = math.radians(latitude1)\n",
    "latitude2 = math.radians(latitude2)\n",
    "longitude1 = math.radians(longitude1)\n",
    "longitude2 = math.radians(longitude2)\n",
    "\n",
    "la1 = math.pow(math.sin((latitude2 - latitude1)/2),2)\n",
    "lo1 = math.pow(math.sin((longitude2 - longitude1)/2),2)\n",
    "sub1 = la1+math.cos(latitude1)*math.cos(latitude2)*lo1\n",
    "distance = (2 * math.atan2(math.sqrt(sub1), math.sqrt(1-sub1))) *6371\n",
    "print (\"Distance : \",distance)"
   ]
  },
  {
   "cell_type": "code",
   "execution_count": 3,
   "id": "97a2e185-7216-4018-ad3b-bc98209b7bf6",
   "metadata": {},
   "outputs": [
    {
     "name": "stdout",
     "output_type": "stream",
     "text": [
      "1. Cash Withdrawal\n",
      "2. Cash Credit\n",
      "3. Change Password\n",
      "4. Close\n"
     ]
    },
    {
     "name": "stdin",
     "output_type": "stream",
     "text": [
      "Select one option 2\n",
      "Enter Credit Amount 1000\n"
     ]
    },
    {
     "name": "stdout",
     "output_type": "stream",
     "text": [
      "Balance Amount:  1000\n",
      "1. Cash Withdrawal\n",
      "2. Cash Credit\n",
      "3. Change Password\n",
      "4. Close\n"
     ]
    },
    {
     "name": "stdin",
     "output_type": "stream",
     "text": [
      "Select one option 1\n",
      "Enter withdraw amount 500\n"
     ]
    },
    {
     "name": "stdout",
     "output_type": "stream",
     "text": [
      "Balance Amount:  500\n",
      "1. Cash Withdrawal\n",
      "2. Cash Credit\n",
      "3. Change Password\n",
      "4. Close\n"
     ]
    },
    {
     "name": "stdin",
     "output_type": "stream",
     "text": [
      "Select one option 4\n"
     ]
    },
    {
     "name": "stdout",
     "output_type": "stream",
     "text": [
      "Exiting the system\n"
     ]
    }
   ],
   "source": [
    "#5. Banking system\n",
    "def processTxn(selval):\n",
    "    global balance\n",
    "    global cpassword\n",
    "    if selval == \"1\":        \n",
    "        wamount = int(input(\"Enter withdraw amount\"))\n",
    "        balance -= wamount\n",
    "        print (\"Balance Amount: \",balance)\n",
    "    elif selval == \"2\":\n",
    "        camount = int(input(\"Enter Credit Amount\"))\n",
    "        balance += camount\n",
    "        print (\"Balance Amount: \",balance)\n",
    "    elif selval == \"3\":        \n",
    "        ipass = input(\"Enter Password\")\n",
    "        cpassword = ipass\n",
    "        print (\"Password changed\")\n",
    "    elif selval == \"4\":\n",
    "        print (\"Exiting the system\")\n",
    "    else:\n",
    "        print (\"Invalid Input\")    \n",
    "\n",
    "balance = 0\n",
    "cpassword = \"123\"\n",
    "selval = \"\"\n",
    "while True:\n",
    "    print (\"1. Cash Withdrawal\")\n",
    "    print (\"2. Cash Credit\")\n",
    "    print (\"3. Change Password\")\n",
    "    print (\"4. Close\")\n",
    "    selval = input(\"Select one option\")\n",
    "    processTxn (selval)\n",
    "\n",
    "    if selval == \"4\":\n",
    "        break"
   ]
  },
  {
   "cell_type": "code",
   "execution_count": 10,
   "id": "a6541ee1-405c-469b-93b7-d62f33bf4a85",
   "metadata": {},
   "outputs": [
    {
     "name": "stdout",
     "output_type": "stream",
     "text": [
      "2002, 2009, 2016, 2023, 2037, 2044, 2051, 2058, 2072, 2079, 2086, 2093, 2107, 2114, 2121, 2128, 2142, 2149, 2156, 2163, 2177, 2184, 2191, 2198, 2212, 2219, 2226, 2233, 2247, 2254, 2261, 2268, 2282, 2289, 2296, 2303, 2317, 2324, 2331, 2338, 2352, 2359, 2366, 2373, 2387, 2394, 2401, 2408, 2422, 2429, 2436, 2443, 2457, 2464, 2471, 2478, 2492, 2499, 2506, 2513, 2527, 2534, 2541, 2548, 2562, 2569, 2576, 2583, 2597, 2604, 2611, 2618, 2632, 2639, 2646, 2653, 2667, 2674, 2681, 2688, 2702, 2709, 2716, 2723, 2737, 2744, 2751, 2758, 2772, 2779, 2786, 2793, 2807, 2814, 2821, 2828, 2842, 2849, 2856, 2863, 2877, 2884, 2891, 2898, 2912, 2919, 2926, 2933, 2947, 2954, 2961, 2968, 2982, 2989, 2996, 3003, 3017, 3024, 3031, 3038, 3052, 3059, 3066, 3073, 3087, 3094, 3101, 3108, 3122, 3129, 3136, 3143, 3157, 3164, 3171, 3178, 3192, 3199\n"
     ]
    }
   ],
   "source": [
    "#6. program to find all number divisible by 7 but are not a multiple of 5 b/w 2000 and 3200\n",
    "result = []\n",
    "for i in range(2000,3201):\n",
    "    if i % 7 == 0 and i % 5 !=0:\n",
    "        result.append(str(i))\n",
    "print (\", \".join(result))\n",
    "        "
   ]
  },
  {
   "cell_type": "code",
   "execution_count": 15,
   "id": "f417cc32-26f1-4ac3-b3c8-a1d6f24f25a2",
   "metadata": {},
   "outputs": [
    {
     "name": "stdin",
     "output_type": "stream",
     "text": [
      "Enter number 5\n"
     ]
    },
    {
     "name": "stdout",
     "output_type": "stream",
     "text": [
      "120\n"
     ]
    }
   ],
   "source": [
    "#7. Factorial using recursion\n",
    "\n",
    "def calculateFactorial(n):\n",
    "    if n == 0 or n ==1:\n",
    "        return 1\n",
    "    else:\n",
    "        return n * calculateFactorial(n-1)\n",
    "    \n",
    "inpno = int(input(\"Enter number\"))\n",
    "res = calculateFactorial(inpno)\n",
    "print(res)"
   ]
  },
  {
   "cell_type": "code",
   "execution_count": 19,
   "id": "43d558f3-6884-4fac-96c6-8cb8a252e488",
   "metadata": {},
   "outputs": [
    {
     "name": "stdout",
     "output_type": "stream",
     "text": [
      "18, 22, 24\n"
     ]
    }
   ],
   "source": [
    "#8. calculate formula value\n",
    "c=50\n",
    "h=30\n",
    "inp = [100,150,180]\n",
    "res = []\n",
    "for i in inp:\n",
    "    res.append(str(int(math.sqrt((2*c*i)/h))))\n",
    "\n",
    "print (\", \".join(res))"
   ]
  },
  {
   "cell_type": "code",
   "execution_count": 2,
   "id": "9361e345-82e1-4861-908c-5170c877157f",
   "metadata": {},
   "outputs": [
    {
     "name": "stdin",
     "output_type": "stream",
     "text": [
      "Enter X:  3\n",
      "Enter Y:  5\n"
     ]
    },
    {
     "name": "stdout",
     "output_type": "stream",
     "text": [
      "[[0, 0, 0, 0, 0], [0, 1, 2, 3, 4], [0, 2, 4, 6, 8]]\n"
     ]
    }
   ],
   "source": [
    "#9.Write  a  program thattakes  2  digits,  X,Y  as  input  and  generates  a  2-dimensional array. The element value in the i-th row and j-thcolumn of the array should be i*j.\n",
    "#Note: i=0,1.., X-1; j=0,1,¡-Y-1\n",
    "x = int(input(\"Enter X: \"))\n",
    "y = int(input(\"Enter Y: \"))\n",
    "matrix = []\n",
    "\n",
    "for i in range(x):    \n",
    "    row = []\n",
    "    for j in range(y):\n",
    "        row.append(i*j)\n",
    "\n",
    "    matrix.append(row)\n",
    "\n",
    "print (matrix)\n",
    "        \n",
    "        \n",
    "        "
   ]
  },
  {
   "cell_type": "code",
   "execution_count": 4,
   "id": "cf99d576-53a1-4f63-9699-e35cc427382a",
   "metadata": {},
   "outputs": [
    {
     "name": "stdin",
     "output_type": "stream",
     "text": [
      "Enter input string:  without,hello,bag,world\n"
     ]
    },
    {
     "name": "stdout",
     "output_type": "stream",
     "text": [
      "bag, hello, without, world\n"
     ]
    }
   ],
   "source": [
    "#10. Write a program that accepts a comma-separatedsequence of words as input and prints the words in a comma-separated sequence after sorting them alphabetically\n",
    "strinput10 = input(\"Enter input string: \")\n",
    "inplist = strinput10.split(',')\n",
    "inplist.sort()\n",
    "print (\", \".join(inplist))"
   ]
  },
  {
   "cell_type": "code",
   "execution_count": 8,
   "id": "51a98ff0-6730-48aa-aeb1-c0bd414421b5",
   "metadata": {},
   "outputs": [
    {
     "name": "stdin",
     "output_type": "stream",
     "text": [
      "Enter string:  Hello world Practice makes perfect\n"
     ]
    },
    {
     "name": "stdout",
     "output_type": "stream",
     "text": [
      "HELLO WORLD PRACTICE MAKES PERFECT\n"
     ]
    }
   ],
   "source": [
    "#11. Make all characters in the sentence capitalized.\n",
    "\n",
    "inpstr = input(\"Enter string: \")\n",
    "print (inpstr.upper())"
   ]
  },
  {
   "cell_type": "code",
   "execution_count": 13,
   "id": "f8970fa1-c38b-4c5c-93d6-6397537c9aed",
   "metadata": {},
   "outputs": [
    {
     "name": "stdin",
     "output_type": "stream",
     "text": [
      "Enter String:  hello world and practice makes perfect and hello world again\n"
     ]
    },
    {
     "name": "stdout",
     "output_type": "stream",
     "text": [
      "again and hello makes perfect practice world\n"
     ]
    }
   ],
   "source": [
    "#12. Write a program that accepts a sequence of whitespace-separatedwords as input and   prints   the   words   after   removing   all   duplicate   words   and   sorting   them alphanumerically. \n",
    "inpstr = input(\"Enter String: \")\n",
    "inpset = set(inpstr.split( ))\n",
    "inplist = sorted(inpset)\n",
    "print (\" \".join(inplist))"
   ]
  },
  {
   "cell_type": "code",
   "execution_count": 16,
   "id": "d021597b-7dbe-4a18-ac6e-eb6835c515f1",
   "metadata": {},
   "outputs": [
    {
     "name": "stdin",
     "output_type": "stream",
     "text": [
      "Enter binary sequence:  0100,0011,1010,1001\n"
     ]
    },
    {
     "name": "stdout",
     "output_type": "stream",
     "text": [
      "1010\n"
     ]
    }
   ],
   "source": [
    "#13. Write  a  program thataccepts  a  sequence  of  comma  separated  4  digit  binary numbers  as  its  input  and  then  check  whether  they  are  divisible  by  5  or  not.  \n",
    "#The numbers that are divisible by 5 are to be printed in a comma-separatedsequence.\n",
    "\n",
    "inpstr = input(\"Enter binary sequence: \")\n",
    "inplist = inpstr.split(',')\n",
    "retlist = []\n",
    "for itm in inplist:\n",
    "    if int(itm,2) % 5 == 0:\n",
    "        retlist.append(itm)\n",
    "\n",
    "print (\",\".join(retlist))"
   ]
  },
  {
   "cell_type": "code",
   "execution_count": 18,
   "id": "5e0796ec-f0ba-471c-9d1c-44931627340a",
   "metadata": {},
   "outputs": [
    {
     "name": "stdin",
     "output_type": "stream",
     "text": [
      "Enter sentence:  Hello world!\n"
     ]
    },
    {
     "name": "stdout",
     "output_type": "stream",
     "text": [
      "upper count  1\n",
      "lower count  9\n"
     ]
    }
   ],
   "source": [
    "#14. Write a program that accepts a sentence and calculatesthe number of upper case letters and lower case letters.\n",
    "\n",
    "inpstr = input(\"Enter sentence: \")\n",
    "uppercount = 0\n",
    "lowercount = 0\n",
    "for char in inpstr:\n",
    "    if char.islower():\n",
    "        lowercount += 1\n",
    "    elif char.isupper():\n",
    "        uppercount += 1\n",
    "\n",
    "print (\"upper count \",uppercount)\n",
    "print (\"lower count \",lowercount)\n",
    "    "
   ]
  },
  {
   "cell_type": "code",
   "execution_count": 24,
   "id": "28bf2ade-8155-4572-82fc-df8f6e728fd2",
   "metadata": {},
   "outputs": [
    {
     "name": "stdin",
     "output_type": "stream",
     "text": [
      "Enter input:  1,2,3,4,5,6,7\n"
     ]
    },
    {
     "name": "stdout",
     "output_type": "stream",
     "text": [
      "Sum :  28.0\n",
      "fSum :  28.0\n"
     ]
    }
   ],
   "source": [
    "#15. example of fsum and sum function of the math library\n",
    "import math\n",
    "inpstr = input(\"Enter input: \")\n",
    "inplist = [float(num) for num in inpstr.split(',')]\n",
    "\n",
    "print (\"Sum : \",sum(inplist))\n",
    "print (\"fSum : \",math.fsum(inplist))"
   ]
  },
  {
   "cell_type": "code",
   "execution_count": null,
   "id": "79a4c542-4540-4ae1-8149-ad8b95fc8c3c",
   "metadata": {},
   "outputs": [],
   "source": []
  }
 ],
 "metadata": {
  "kernelspec": {
   "display_name": "Python 3 (ipykernel)",
   "language": "python",
   "name": "python3"
  },
  "language_info": {
   "codemirror_mode": {
    "name": "ipython",
    "version": 3
   },
   "file_extension": ".py",
   "mimetype": "text/x-python",
   "name": "python",
   "nbconvert_exporter": "python",
   "pygments_lexer": "ipython3",
   "version": "3.11.7"
  }
 },
 "nbformat": 4,
 "nbformat_minor": 5
}
