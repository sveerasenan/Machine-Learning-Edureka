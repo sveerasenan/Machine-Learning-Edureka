{
 "cells": [
  {
   "cell_type": "code",
   "execution_count": 31,
   "id": "12c63349-9204-4444-aed9-2deb58db379b",
   "metadata": {},
   "outputs": [
    {
     "name": "stdout",
     "output_type": "stream",
     "text": [
      "     DSScore  Age        Subject Sex   ID\n",
      "0       82.0   18  Data Structue   M    1\n",
      "1       79.0   19  Data Structue   M    2\n",
      "2       39.0   19  Data Structue   M    3\n",
      "3       76.0   18  Data Structue   M    4\n",
      "4       76.0   18  Data Structue   F    5\n",
      "..       ...  ...            ...  ..  ...\n",
      "594     39.0   19  Data Structue   F  595\n",
      "595     69.0   18  Data Structue   M  596\n",
      "596     47.0   20  Data Structue   M  597\n",
      "597     69.0   20  Data Structue   M  598\n",
      "598      0.0   19  Data Structue   M  599\n",
      "\n",
      "[599 rows x 5 columns]\n",
      "     PhysicsScore  Age  Subject Sex   ID  MathScore  DSScore\n",
      "0            84.0   18  Physics   1    1       88.0     82.0\n",
      "1            81.0   19  Physics   1    2       85.0     79.0\n",
      "2            41.0   19  Physics   1    3       45.0     39.0\n",
      "3            78.0   18  Physics   1    4       82.0     76.0\n",
      "4            78.0   18  Physics   0    5       82.0     76.0\n",
      "..            ...  ...      ...  ..  ...        ...      ...\n",
      "594          41.0   19  Physics   0  595       45.0     39.0\n",
      "595          71.0   18  Physics   1  596       75.0     69.0\n",
      "596          49.0   20  Physics   1  597       53.0     47.0\n",
      "597          71.0   20  Physics   1  598       75.0     69.0\n",
      "598          69.0   19  Physics   1  599       88.0      0.0\n",
      "\n",
      "[599 rows x 7 columns]\n"
     ]
    }
   ],
   "source": [
    "import numpy as np\n",
    "import pandas as pd\n",
    "#Read Physics Score\n",
    "physicsdf = pd.read_csv(\"PhysicsScoreTerm1.csv\")\n",
    "physicsdf.drop(['Name','Ethinicity'], axis=1,inplace=True)\n",
    "physicsdf['Score'] = physicsdf['Score'].fillna(0)\n",
    "physicsdf.rename(columns={\"Score\":\"PhysicsScore\"},inplace=True)\n",
    "\n",
    "#Read Maths Score\n",
    "mathdf = pd.read_csv(\"MathScoreTerm1.csv\")\n",
    "mathdf.drop(['Name','Ethinicity'], axis=1,inplace=True)\n",
    "mathdf['Score'] = mathdf['Score'].fillna(0)\n",
    "mathdf.rename(columns={\"Score\":\"MathScore\"},inplace=True)\n",
    "\n",
    "#Read Data Science Score\n",
    "dsdf = pd.read_csv(\"DSScoreTerm1.csv\")\n",
    "dsdf.drop(['Name','Ethinicity'], axis=1,inplace=True)\n",
    "dsdf['Score'] = dsdf['Score'].fillna(0)\n",
    "dsdf.rename(columns={\"Score\":\"DSScore\"},inplace=True)\n",
    "print (dsdf)\n",
    "#Merge all df's\n",
    "df_merged = physicsdf.merge(mathdf[['MathScore','ID']],on='ID', how='left').merge(dsdf[['DSScore','ID']],on='ID', how='left')\n",
    "df_merged.loc[df_merged['Sex'] == 'M','Sex'] = 1\n",
    "df_merged.loc[df_merged['Sex'] == 'F','Sex'] = 0\n",
    "print (df_merged)\n",
    "\n",
    "df_merged.to_csv('merged_score.csv')"
   ]
  },
  {
   "cell_type": "code",
   "execution_count": null,
   "id": "41f4fa2b-5350-460c-b9e8-9337a1b78bdd",
   "metadata": {},
   "outputs": [],
   "source": []
  },
  {
   "cell_type": "code",
   "execution_count": null,
   "id": "79bc6aa6-ac76-4302-99c6-7b70aa02568a",
   "metadata": {},
   "outputs": [],
   "source": []
  }
 ],
 "metadata": {
  "kernelspec": {
   "display_name": "Python 3 (ipykernel)",
   "language": "python",
   "name": "python3"
  },
  "language_info": {
   "codemirror_mode": {
    "name": "ipython",
    "version": 3
   },
   "file_extension": ".py",
   "mimetype": "text/x-python",
   "name": "python",
   "nbconvert_exporter": "python",
   "pygments_lexer": "ipython3",
   "version": "3.11.7"
  }
 },
 "nbformat": 4,
 "nbformat_minor": 5
}
