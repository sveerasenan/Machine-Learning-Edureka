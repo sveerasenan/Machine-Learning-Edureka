{
 "cells": [
  {
   "cell_type": "code",
   "execution_count": 10,
   "id": "e7b08be0-45c4-45d7-a7bd-afcca0ce6762",
   "metadata": {},
   "outputs": [
    {
     "name": "stdin",
     "output_type": "stream",
     "text": [
      "Enter Reference ID AryaFriend12\n"
     ]
    },
    {
     "name": "stdout",
     "output_type": "stream",
     "text": [
      "Encrypted Reference ID b'gAAAAABm0H8Qh9zHGnLRhWF1EHxRnczhj29QzTpiuJXhAZpNYnHt7l5xDVlppmy6B308qIzmolwpRNnzC3pc3bTR4gwPACJvdw=='\n",
      "Decrypted Reference ID AryaFriend12\n"
     ]
    }
   ],
   "source": [
    "from cryptography.fernet import Fernet\n",
    "key = Fernet.generate_key()\n",
    "fernet = Fernet(key)\n",
    "inpreferenceid = input(\"Enter Reference ID\")\n",
    "\n",
    "if inpreferenceid.isalnum() and len(inpreferenceid) == 12:\n",
    "    #encrypt data and print\n",
    "    encMessage = fernet.encrypt(inpreferenceid.encode())\n",
    "\n",
    "    decMessage = fernet.decrypt(encMessage).decode()\n",
    "    print (\"Encrypted Reference ID\",encMessage)\n",
    "    print (\"Decrypted Reference ID\",decMessage)\n",
    "else:\n",
    "    print (\"Invalid Reference id\")\n",
    "\n",
    "                     "
   ]
  },
  {
   "cell_type": "code",
   "execution_count": null,
   "id": "c8392d2e-12f2-4577-a1cb-0bd72194de7e",
   "metadata": {},
   "outputs": [],
   "source": []
  }
 ],
 "metadata": {
  "kernelspec": {
   "display_name": "Python 3 (ipykernel)",
   "language": "python",
   "name": "python3"
  },
  "language_info": {
   "codemirror_mode": {
    "name": "ipython",
    "version": 3
   },
   "file_extension": ".py",
   "mimetype": "text/x-python",
   "name": "python",
   "nbconvert_exporter": "python",
   "pygments_lexer": "ipython3",
   "version": "3.11.7"
  }
 },
 "nbformat": 4,
 "nbformat_minor": 5
}
