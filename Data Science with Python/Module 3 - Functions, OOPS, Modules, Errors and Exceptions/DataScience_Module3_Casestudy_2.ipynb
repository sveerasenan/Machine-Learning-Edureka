{
 "cells": [
  {
   "cell_type": "code",
   "execution_count": 1,
   "id": "50c1d661-2df6-4418-9e71-3d94a223c81b",
   "metadata": {},
   "outputs": [
    {
     "name": "stdout",
     "output_type": "stream",
     "text": [
      "{'min_age': 19, 'max_age': 80}\n"
     ]
    },
    {
     "name": "stdin",
     "output_type": "stream",
     "text": [
      "Enter your profession:  admin\n"
     ]
    },
    {
     "name": "stdout",
     "output_type": "stream",
     "text": [
      "Eligible Client\n"
     ]
    },
    {
     "name": "stdin",
     "output_type": "stream",
     "text": [
      "Enter your profession:  END\n"
     ]
    }
   ],
   "source": [
    "#1. Banking marketing requirement\n",
    "\"\"\"\n",
    "1.Read file bank-data.csv \n",
    "2.Build a set of unique jobs \n",
    "3.Read the input from the command line –profession\n",
    "4.Check if the professionis onthe list\n",
    "5.Print whetherthe client is eligible\n",
    "\"\"\"\n",
    "import re\n",
    "import csv\n",
    "jobdesc = set()\n",
    "minage = float('inf')\n",
    "maxage = float('-inf')\n",
    "agelimit = {}\n",
    "try:\n",
    "    with open('bank-data.csv') as csvfile:\n",
    "        csvdata = csv.reader(csvfile, delimiter=' ')\n",
    "        headers = next(csvdata) \n",
    "        for row in csvdata:\n",
    "            rowlist = row[0].split(',')\n",
    "            jobval = re.sub(r'[.]$','',(rowlist[1]))\n",
    "            jobdesc.add(jobval.lower())\n",
    "            \n",
    "            #compute max and min age\n",
    "            age = int(rowlist[0])\n",
    "            if age < minage or minage == 0:\n",
    "                minage = age\n",
    "\n",
    "            if age > maxage:\n",
    "                maxage = age\n",
    "\n",
    "except:\n",
    "    print (\"Error in processing file\", sys.exc_info())\n",
    "    exit()\n",
    "\n",
    "agelimit[\"min_age\"] = minage\n",
    "agelimit[\"max_age\"] = maxage\n",
    "print (agelimit)\n",
    "while True:\n",
    "    inpprofession = input(\"Enter your profession: \").strip()\n",
    "\n",
    "    if inpprofession == \"END\":\n",
    "        break\n",
    "    if inpprofession.lower() in jobdesc:\n",
    "        print (\"Eligible Client\")\n",
    "    else:\n",
    "        print (\"Not Eligible\")"
   ]
  },
  {
   "cell_type": "code",
   "execution_count": null,
   "id": "533e86d3-9c78-4e28-9758-3fae0e76a3c2",
   "metadata": {},
   "outputs": [],
   "source": []
  },
  {
   "cell_type": "code",
   "execution_count": null,
   "id": "4486b005-6211-4f04-9788-2504ab18eaf8",
   "metadata": {},
   "outputs": [],
   "source": []
  }
 ],
 "metadata": {
  "kernelspec": {
   "display_name": "Python 3 (ipykernel)",
   "language": "python",
   "name": "python3"
  },
  "language_info": {
   "codemirror_mode": {
    "name": "ipython",
    "version": 3
   },
   "file_extension": ".py",
   "mimetype": "text/x-python",
   "name": "python",
   "nbconvert_exporter": "python",
   "pygments_lexer": "ipython3",
   "version": "3.11.7"
  }
 },
 "nbformat": 4,
 "nbformat_minor": 5
}
